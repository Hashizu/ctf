{
 "cells": [
  {
   "cell_type": "code",
   "execution_count": 1,
   "metadata": {},
   "outputs": [
    {
     "name": "stdout",
     "output_type": "stream",
     "text": [
      "Collecting dpkt\n",
      "  Downloading dpkt-1.9.7.2-py3-none-any.whl (181 kB)\n",
      "Installing collected packages: dpkt\n",
      "Successfully installed dpkt-1.9.7.2\n"
     ]
    },
    {
     "name": "stderr",
     "output_type": "stream",
     "text": [
      "WARNING: You are using pip version 21.2.4; however, version 21.3.1 is available.\n",
      "You should consider upgrading via the 'c:\\users\\hashi\\anaconda3\\envs\\python3.6\\python.exe -m pip install --upgrade pip' command.\n"
     ]
    }
   ],
   "source": [
    "!pip install dpkt"
   ]
  },
  {
   "cell_type": "code",
   "execution_count": 3,
   "metadata": {},
   "outputs": [],
   "source": [
    "import dpkt,socket\n",
    "from tqdm import tqdm_notebook as tqdm\n",
    "import base64"
   ]
  },
  {
   "cell_type": "code",
   "execution_count": 4,
   "metadata": {},
   "outputs": [],
   "source": [
    "# re = dpkt.http.Request(tcp.data)"
   ]
  },
  {
   "cell_type": "code",
   "execution_count": 5,
   "metadata": {},
   "outputs": [
    {
     "ename": "NameError",
     "evalue": "name 'tcp' is not defined",
     "output_type": "error",
     "traceback": [
      "\u001b[1;31m---------------------------------------------------------------------------\u001b[0m",
      "\u001b[1;31mNameError\u001b[0m                                 Traceback (most recent call last)",
      "\u001b[1;32m<ipython-input-5-685137a417b8>\u001b[0m in \u001b[0;36m<module>\u001b[1;34m\u001b[0m\n\u001b[1;32m----> 1\u001b[1;33m \u001b[0mtcp\u001b[0m\u001b[1;33m.\u001b[0m\u001b[0mdata\u001b[0m\u001b[1;33m\u001b[0m\u001b[1;33m\u001b[0m\u001b[0m\n\u001b[0m",
      "\u001b[1;31mNameError\u001b[0m: name 'tcp' is not defined"
     ]
    }
   ],
   "source": [
    "tcp.data"
   ]
  },
  {
   "cell_type": "code",
   "execution_count": 145,
   "metadata": {},
   "outputs": [
    {
     "data": {
      "text/plain": [
       "IP(len=52, id=27442, df=1, p=6, sum=53647, src=b'\\x7f\\x00\\x00\\x01', dst=b'\\x7f\\x00\\x00\\x01', opts=b'', data=TCP(sport=55790, dport=8080, seq=2693486726, ack=1266986426, off=8, flags=16, win=512, sum=65064, opts=b'\\x01\\x01\\x08\\n\\x12\\xe1$\\xb1\\x12\\xe1$\\xb1'))"
      ]
     },
     "execution_count": 145,
     "metadata": {},
     "output_type": "execute_result"
    }
   ],
   "source": [
    "ip"
   ]
  },
  {
   "cell_type": "code",
   "execution_count": 146,
   "metadata": {},
   "outputs": [
    {
     "data": {
      "application/vnd.jupyter.widget-view+json": {
       "model_id": "2738395769954b318164185f7f6c5660",
       "version_major": 2,
       "version_minor": 0
      },
      "text/plain": [
       "HBox(children=(IntProgress(value=1, bar_style='info', max=1), HTML(value='')))"
      ]
     },
     "metadata": {},
     "output_type": "display_data"
    },
    {
     "name": "stdout",
     "output_type": "stream",
     "text": [
      "Wall time: 25.1 s\n"
     ]
    }
   ],
   "source": [
    "%%time\n",
    "fcs = []\n",
    "ct=0\n",
    "filename = './capture.pcap'\n",
    "pcap = dpkt.pcap.Reader(open(filename,'rb'))\n",
    "for timestamp, buf in tqdm(pcap):\n",
    "    try:\n",
    "        eth = dpkt.ethernet.Ethernet(buf)\n",
    "        ip = eth.data\n",
    "        tcp = ip.data\n",
    "#         if (tcp.data!=b\"\") & (\"Can you find the flag\" in str(tcp.data)):\n",
    "# #             ct+=1\n",
    "# #             if ct>1:break\n",
    "# #             print(tcp.data)\n",
    "#             fcs.append(ip)\n",
    "        re = dpkt.http.Request(tcp.data)\n",
    "        print(re)\n",
    "    except:\n",
    "        pass"
   ]
  },
  {
   "cell_type": "code",
   "execution_count": 133,
   "metadata": {},
   "outputs": [
    {
     "data": {
      "text/plain": [
       "'\\x00\\x001\\x01\\x04\\x00\\x00\\x00\\x01�_�I|���\\x19��P���\\x150Z�V{\\\\\\x0223a��i~�d*h\\x1f�\\x04\\x01\\t@�p\\x01�\\x07\\x14��\\x7f\\x00\\x00\\x17\\x00\\x01\\x00\\x00\\x00\\x01'"
      ]
     },
     "execution_count": 133,
     "metadata": {},
     "output_type": "execute_result"
    }
   ],
   "source": [
    "q=b\"\\x00\\x001\\x01\\x04\\x00\\x00\\x00\\x01\\x88_\\x92I|\\xa5\\x8a\\xe8\\x19\\xaa\\xfbP\\x93\\x8e\\xc4\\x150Z\\x99V{\\\\\\x0223a\\x96\\xdfi~\\x94d*h\\x1f\\xa5\\x04\\x01\\t@\\xb7p\\x01\\xb8\\x07\\x14\\xc5\\xa3\\x7f\\x00\\x00\\x17\\x00\\x01\\x00\\x00\\x00\\x01\"\n",
    "q.decode(\"ascii\",\"replace\")"
   ]
  },
  {
   "cell_type": "code",
   "execution_count": 122,
   "metadata": {},
   "outputs": [],
   "source": [
    "import numpy as np\n",
    "p=np.array((range(len(fcs))))[np.array([len(l) for l in fcs])==164]\n"
   ]
  },
  {
   "cell_type": "code",
   "execution_count": 123,
   "metadata": {},
   "outputs": [
    {
     "data": {
      "text/plain": [
       "Counter({142: 45432, 164: 1176, 151: 8, 84: 40})"
      ]
     },
     "execution_count": 123,
     "metadata": {},
     "output_type": "execute_result"
    }
   ],
   "source": [
    "from collections import Counter as xl\n",
    "xl(np.array([len(l) for l in fcs]))"
   ]
  },
  {
   "cell_type": "code",
   "execution_count": 124,
   "metadata": {},
   "outputs": [
    {
     "data": {
      "text/plain": [
       "IP(len=164, id=43960, df=1, p=6, sum=37017, src=b'\\x7f\\x00\\x00\\x01', dst=b'\\x7f\\x00\\x00\\x01', opts=b'', data=TCP(sport=8080, dport=47198, seq=4270535475, ack=3050122378, off=8, flags=24, win=512, sum=65176, opts=b'\\x01\\x01\\x08\\n\\x12\\xdeo\\x0f\\x12\\xdeo\\x0f', data=b'\\x00\\x00\\x00\\x04\\x01\\x00\\x00\\x00\\x00\\x00\\x00\\x04\\x08\\x00\\x00\\x00\\x00\\x00\\x00\\x0f\\x00\\x01\\x00\\x001\\x01\\x04\\x00\\x00\\x00\\x01\\x88_\\x92I|\\xa5\\x8a\\xe8\\x19\\xaa\\xfbP\\x93\\x8e\\xc4\\x150Z\\x99V{\\\\\\x0223a\\x96\\xdfi~\\x94d*h\\x1f\\xa5\\x04\\x01\\t@\\xb7p\\x01\\xb8\\x07\\x14\\xc5\\xa3\\x7f\\x00\\x00\\x17\\x00\\x01\\x00\\x00\\x00\\x01Can you find the flag?\\n'))"
      ]
     },
     "execution_count": 124,
     "metadata": {},
     "output_type": "execute_result"
    }
   ],
   "source": [
    "fcs[p[0]]"
   ]
  },
  {
   "cell_type": "code",
   "execution_count": null,
   "metadata": {},
   "outputs": [],
   "source": []
  }
 ],
 "metadata": {
  "kernelspec": {
   "display_name": "Python 3",
   "language": "python",
   "name": "python3"
  },
  "language_info": {
   "codemirror_mode": {
    "name": "ipython",
    "version": 3
   },
   "file_extension": ".py",
   "mimetype": "text/x-python",
   "name": "python",
   "nbconvert_exporter": "python",
   "pygments_lexer": "ipython3",
   "version": "3.6.7"
  }
 },
 "nbformat": 4,
 "nbformat_minor": 2
}
