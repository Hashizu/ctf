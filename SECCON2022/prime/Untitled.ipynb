{
 "cells": [
  {
   "cell_type": "code",
   "execution_count": null,
   "metadata": {},
   "outputs": [],
   "source": []
  },
  {
   "cell_type": "code",
   "execution_count": 3,
   "metadata": {},
   "outputs": [],
   "source": [
    "n = 1469306555989662601738937586185811356584560663444241799248883151234981425606994131251534061749867597108901345962191285698910505854400140011014529831462146891708038070946747873751755506317217593628955639813335165955462090902503475003044105575878448772569859127328526906589741001161280642324869228822883250747810\n",
    "e = 65537\n",
    "cipher = 651661195530157573576702500786387713694907839441939690361404036262624705925501418525964190209787755136539045272521610431875717420893835185178750925843841307480557919620028795238990012286774368017182318765031136333158368114442251560921430228334408497711903639578177533843809578963814273828604734679634192072687"
   ]
  },
  {
   "cell_type": "code",
   "execution_count": 61,
   "metadata": {},
   "outputs": [],
   "source": [
    "#111\n",
    "n = 39038645989295759373461318432666361900531687146567331620102670280517615732558352547538613680255584955808611078240497576534201535968614439734145303745054116019362582173774929343825931846332390825907545831603250083369972612765605231882702062378385545581240150287271712478673416956260299630966443396301508366617\n",
    "e = 65537\n",
    "cipher = 17941387380810183322780848521530035349287069125976762605792359783967058163640746653285478351976436090309051151972423160375026896658391707014086258554836289994861230014412468385554048773995501604957839306289676213740941138877654911693286769925288480333566478642843056490715798996062572065279451613275976889185"
   ]
  },
  {
   "cell_type": "code",
   "execution_count": 62,
   "metadata": {},
   "outputs": [],
   "source": [
    "### 222\n",
    "n = 439969350443472413453081245931401222338610090113029533479116254675027379708666002463270451872798312557210830995519149470080129829708969219006193064542886802394195565523048374056596988435479800958055051457814639239997832380537743890695722074144543218930688708492525496647768800996559546865861703147060190445432\n",
    "e = 65537\n",
    "cipher = 188040874391644768099665878706413294527496520388654605431420227770419525471160838735051262181221181627482494823975758613472458411056707967394101078948208069675941852580435414974550408985169772664334582034979001785705481818277017607218751018479506180059014372111908740650817375028285393964284768364243986543653"
   ]
  },
  {
   "cell_type": "code",
   "execution_count": 63,
   "metadata": {},
   "outputs": [
    {
     "data": {
      "text/plain": [
       "309"
      ]
     },
     "execution_count": 63,
     "metadata": {},
     "output_type": "execute_result"
    }
   ],
   "source": [
    "len(str(cipher))"
   ]
  },
  {
   "cell_type": "code",
   "execution_count": 64,
   "metadata": {},
   "outputs": [
    {
     "data": {
      "text/plain": [
       "309"
      ]
     },
     "execution_count": 64,
     "metadata": {},
     "output_type": "execute_result"
    }
   ],
   "source": [
    "len(str(n))"
   ]
  },
  {
   "cell_type": "code",
   "execution_count": 65,
   "metadata": {},
   "outputs": [
    {
     "data": {
      "text/plain": [
       "309"
      ]
     },
     "execution_count": 65,
     "metadata": {},
     "output_type": "execute_result"
    }
   ],
   "source": [
    "len(str(n-cipher))"
   ]
  },
  {
   "cell_type": "code",
   "execution_count": 46,
   "metadata": {},
   "outputs": [
    {
     "data": {
      "text/plain": [
       "1.301288199643192e+307"
      ]
     },
     "execution_count": 46,
     "metadata": {},
     "output_type": "execute_result"
    }
   ],
   "source": []
  },
  {
   "cell_type": "code",
   "execution_count": 45,
   "metadata": {},
   "outputs": [
    {
     "name": "stdout",
     "output_type": "stream",
     "text": [
      "[]\n",
      "<Response [200]>\n",
      "[39038645989295759373461318432666361900531687146567331620102670280517615732558352547538613680255584955808611078240497576534201535968614439734145303745054116019362582173774929343825931846332390825907545831603250083369972612765605231882702062378385545581240150287271712478673416956260299630966443396301508366617]\n",
      "[['39038645989295759373461318432666361900531687146567331620102670280517615732558352547538613680255584955808611078240497576534201535968614439734145303745054116019362582173774929343825931846332390825907545831603250083369972612765605231882702062378385545581240150287271712478673416956260299630966443396301508366617', 1]]\n",
      "C\n"
     ]
    }
   ],
   "source": [
    "from factordb.factordb import FactorDB\n",
    "\n",
    "f = FactorDB(n)\n",
    "\n",
    "print(f.get_factor_list())\n",
    "print(f.connect())\n",
    "print(f.get_factor_list())\n",
    "print(f.get_factor_from_api())\n",
    "print(f.get_status())\n"
   ]
  },
  {
   "cell_type": "code",
   "execution_count": 47,
   "metadata": {},
   "outputs": [
    {
     "name": "stdout",
     "output_type": "stream",
     "text": [
      "Collecting gmpy2\n",
      "  Downloading gmpy2-2.1.2-cp36-cp36m-win_amd64.whl (1.1 MB)\n",
      "Installing collected packages: gmpy2\n",
      "Successfully installed gmpy2-2.1.2\n"
     ]
    },
    {
     "name": "stderr",
     "output_type": "stream",
     "text": [
      "WARNING: You are using pip version 21.2.4; however, version 21.3.1 is available.\n",
      "You should consider upgrading via the 'c:\\users\\hashi\\anaconda3\\envs\\python3.6\\python.exe -m pip install --upgrade pip' command.\n"
     ]
    }
   ],
   "source": [
    "!pip install gmpy2"
   ]
  },
  {
   "cell_type": "code",
   "execution_count": 48,
   "metadata": {},
   "outputs": [],
   "source": [
    "import gmpy2\n"
   ]
  },
  {
   "cell_type": "code",
   "execution_count": 83,
   "metadata": {},
   "outputs": [
    {
     "data": {
      "text/plain": [
       "86115853264729416975114905869591280299475499365092179542798228449210289618944"
      ]
     },
     "execution_count": 83,
     "metadata": {},
     "output_type": "execute_result"
    }
   ],
   "source": [
    "l = (gmpy2.rootn(n//8,4))\n",
    "int(l)"
   ]
  },
  {
   "cell_type": "code",
   "execution_count": 84,
   "metadata": {},
   "outputs": [
    {
     "data": {
      "text/plain": [
       "54996168805434050374260527784457242206344837098347605292844813486017677450176119599098693218295416914575124210904965030418955435892507495639087322945060301255914399550548553739240582873441869029737167232748769389315920046770145786034434420602544626065523342917223501689743736769066369023844628856166464618496"
      ]
     },
     "execution_count": 84,
     "metadata": {},
     "output_type": "execute_result"
    }
   ],
   "source": [
    "86115853264729416975114905869591280299475499365092179542798228449210289618944**4"
   ]
  },
  {
   "cell_type": "code",
   "execution_count": null,
   "metadata": {},
   "outputs": [],
   "source": []
  },
  {
   "cell_type": "code",
   "execution_count": 99,
   "metadata": {},
   "outputs": [
    {
     "data": {
      "text/plain": [
       "mpfr('1.0108898128750419')"
      ]
     },
     "execution_count": 99,
     "metadata": {},
     "output_type": "execute_result"
    }
   ],
   "source": [
    "gmpy2.rootn(cipher,"
   ]
  },
  {
   "cell_type": "code",
   "execution_count": 92,
   "metadata": {},
   "outputs": [
    {
     "name": "stdout",
     "output_type": "stream",
     "text": [
      "True\n",
      "123\n",
      "225\n",
      "251\n"
     ]
    }
   ],
   "source": [
    "import gmpy2\n",
    "\n",
    "n=323\n",
    "e1=e\n",
    "e2=e\n",
    "c1=\n",
    "c2=251\n",
    "\n",
    "z,x,y = gmpy2.gcdext(e1,e2)\n",
    "\n",
    "if x < 0:\n",
    "    a = -x\n",
    "    b = y\n",
    "    c1_inv = gmpy2.invert(c1,n)\n",
    "    c1a = pow(c1_inv, a, n)\n",
    "    c2b = pow(c2, b, n)\n",
    "else:\n",
    "    a = x\n",
    "    b = -y\n",
    "    c2_inv = gmpy2.invert(c2,n)\n",
    "    c1a = pow(c1, a, n)\n",
    "    c2b = pow(c2_inv, b, n)\n",
    "\n",
    "m = (c1a * c2b)%n\n",
    "m,result = gmpy2.iroot(m,z)\n",
    "print(result)\n",
    "print(m)\n",
    "#True\n",
    "#123\n",
    "\n",
    "#暗号化して確認\n",
    "print(pow(m,e1,n))\n",
    "print(pow(m,e2,n))\n",
    "#225\n",
    "#251"
   ]
  },
  {
   "cell_type": "code",
   "execution_count": 101,
   "metadata": {},
   "outputs": [
    {
     "name": "stdout",
     "output_type": "stream",
     "text": [
      "Collecting pwntools\n",
      "  Downloading pwntools-4.8.0-py2.py3-none-any.whl (11.7 MB)\n",
      "Collecting intervaltree>=3.0\n",
      "  Downloading intervaltree-3.1.0.tar.gz (32 kB)\n",
      "Collecting mako>=1.0.0\n",
      "  Downloading Mako-1.1.6-py2.py3-none-any.whl (75 kB)\n",
      "Requirement already satisfied: pygments>=2.0 in c:\\users\\hashi\\anaconda3\\envs\\python3.6\\lib\\site-packages (from pwntools) (2.2.0)\n",
      "Collecting pathlib2\n",
      "  Downloading pathlib2-2.3.7.post1-py2.py3-none-any.whl (18 kB)\n",
      "Requirement already satisfied: python-dateutil in c:\\users\\hashi\\anaconda3\\envs\\python3.6\\lib\\site-packages (from pwntools) (2.7.5)\n",
      "Collecting pyserial>=2.7\n",
      "  Downloading pyserial-3.5-py2.py3-none-any.whl (90 kB)\n",
      "Requirement already satisfied: pysocks in c:\\users\\hashi\\anaconda3\\envs\\python3.6\\lib\\site-packages (from pwntools) (1.6.8)\n",
      "Requirement already satisfied: paramiko>=1.15.2 in c:\\users\\hashi\\anaconda3\\envs\\python3.6\\lib\\site-packages (from pwntools) (2.7.1)\n",
      "Requirement already satisfied: requests>=2.0 in c:\\users\\hashi\\anaconda3\\envs\\python3.6\\lib\\site-packages (from pwntools) (2.20.1)\n",
      "Collecting capstone>=3.0.5rc2\n",
      "  Downloading capstone-5.0.0rc2-py3-none-win_amd64.whl (1.2 MB)\n",
      "Collecting unicorn>=1.0.2rc1\n",
      "  Downloading unicorn-2.0.0rc7-py2.py3-none-win_amd64.whl (3.1 MB)\n",
      "Collecting ropgadget>=5.3\n",
      "  Downloading ROPGadget-6.7-py3-none-any.whl (31 kB)\n",
      "Collecting pyelftools>=0.2.4\n",
      "  Downloading pyelftools-0.28-py2.py3-none-any.whl (155 kB)\n",
      "Requirement already satisfied: pip>=6.0.8 in c:\\users\\hashi\\anaconda3\\envs\\python3.6\\lib\\site-packages (from pwntools) (21.2.4)\n",
      "Requirement already satisfied: psutil>=3.3.0 in c:\\users\\hashi\\anaconda3\\envs\\python3.6\\lib\\site-packages (from pwntools) (5.6.7)\n",
      "Collecting sortedcontainers\n",
      "  Downloading sortedcontainers-2.4.0-py2.py3-none-any.whl (29 kB)\n",
      "Collecting six>=1.12.0\n",
      "  Downloading six-1.16.0-py2.py3-none-any.whl (11 kB)\n",
      "Collecting colored-traceback\n",
      "  Downloading colored-traceback-0.3.0.tar.gz (3.8 kB)\n",
      "Collecting packaging\n",
      "  Downloading packaging-21.3-py3-none-any.whl (40 kB)\n",
      "Collecting rpyc\n",
      "  Downloading rpyc-5.0.1-py3-none-any.whl (68 kB)\n",
      "Requirement already satisfied: MarkupSafe>=0.9.2 in c:\\users\\hashi\\anaconda3\\envs\\python3.6\\lib\\site-packages (from mako>=1.0.0->pwntools) (1.1.0)\n",
      "Requirement already satisfied: cryptography>=2.5 in c:\\users\\hashi\\anaconda3\\envs\\python3.6\\lib\\site-packages (from paramiko>=1.15.2->pwntools) (2.8)\n",
      "Requirement already satisfied: bcrypt>=3.1.3 in c:\\users\\hashi\\anaconda3\\envs\\python3.6\\lib\\site-packages (from paramiko>=1.15.2->pwntools) (3.1.7)\n",
      "Requirement already satisfied: pynacl>=1.0.1 in c:\\users\\hashi\\anaconda3\\envs\\python3.6\\lib\\site-packages (from paramiko>=1.15.2->pwntools) (1.3.0)\n",
      "Requirement already satisfied: cffi>=1.1 in c:\\users\\hashi\\anaconda3\\envs\\python3.6\\lib\\site-packages (from bcrypt>=3.1.3->paramiko>=1.15.2->pwntools) (1.11.5)\n",
      "Requirement already satisfied: pycparser in c:\\users\\hashi\\anaconda3\\envs\\python3.6\\lib\\site-packages (from cffi>=1.1->bcrypt>=3.1.3->paramiko>=1.15.2->pwntools) (2.19)\n",
      "Requirement already satisfied: chardet<3.1.0,>=3.0.2 in c:\\users\\hashi\\anaconda3\\envs\\python3.6\\lib\\site-packages (from requests>=2.0->pwntools) (3.0.4)\n",
      "Requirement already satisfied: urllib3<1.25,>=1.21.1 in c:\\users\\hashi\\anaconda3\\envs\\python3.6\\lib\\site-packages (from requests>=2.0->pwntools) (1.23)\n",
      "Requirement already satisfied: idna<2.8,>=2.5 in c:\\users\\hashi\\anaconda3\\envs\\python3.6\\lib\\site-packages (from requests>=2.0->pwntools) (2.7)\n",
      "Requirement already satisfied: certifi>=2017.4.17 in c:\\users\\hashi\\anaconda3\\envs\\python3.6\\lib\\site-packages (from requests>=2.0->pwntools) (2019.9.11)\n",
      "Requirement already satisfied: pyparsing!=3.0.5,>=2.0.2 in c:\\users\\hashi\\anaconda3\\envs\\python3.6\\lib\\site-packages (from packaging->pwntools) (2.3.1)\n",
      "Collecting plumbum\n",
      "  Downloading plumbum-1.7.2-py2.py3-none-any.whl (117 kB)\n",
      "Collecting pywin32\n",
      "  Downloading pywin32-304-cp36-cp36m-win_amd64.whl (12.2 MB)\n",
      "Building wheels for collected packages: intervaltree, colored-traceback\n",
      "  Building wheel for intervaltree (setup.py): started\n",
      "  Building wheel for intervaltree (setup.py): finished with status 'done'\n",
      "  Created wheel for intervaltree: filename=intervaltree-3.1.0-py2.py3-none-any.whl size=26105 sha256=13d95e411d68d26ac8ac316da4955f6a9ce0292878ede11ba6c6ac816a550e57\n",
      "  Stored in directory: c:\\users\\hashi\\appdata\\local\\pip\\cache\\wheels\\fc\\e6\\3f\\1616b381f981006664dd5123f06b231bbbb2e7d604a417e2fd\n",
      "  Building wheel for colored-traceback (setup.py): started\n",
      "  Building wheel for colored-traceback (setup.py): finished with status 'done'\n",
      "  Created wheel for colored-traceback: filename=colored_traceback-0.3.0-py3-none-any.whl size=4628 sha256=9b5ac8cad955e93904c695265bcf2bb7dbae7af1619036ccc559015114d2407a\n",
      "  Stored in directory: c:\\users\\hashi\\appdata\\local\\pip\\cache\\wheels\\75\\d1\\a1\\573d5e07cdabbff152a804fcd011913d7db2667773192b3abb\n",
      "Successfully built intervaltree colored-traceback\n",
      "Installing collected packages: six, pywin32, sortedcontainers, plumbum, capstone, unicorn, rpyc, ropgadget, pyserial, pyelftools, pathlib2, packaging, mako, intervaltree, colored-traceback, pwntools\n",
      "  Attempting uninstall: six\n",
      "    Found existing installation: six 1.11.0\n",
      "    Uninstalling six-1.11.0:\n",
      "      Successfully uninstalled six-1.11.0\n",
      "Successfully installed capstone-5.0.0rc2 colored-traceback-0.3.0 intervaltree-3.1.0 mako-1.1.6 packaging-21.3 pathlib2-2.3.7.post1 plumbum-1.7.2 pwntools-4.8.0 pyelftools-0.28 pyserial-3.5 pywin32-304 ropgadget-6.7 rpyc-5.0.1 six-1.16.0 sortedcontainers-2.4.0 unicorn-2.0.0rc7\n"
     ]
    },
    {
     "name": "stderr",
     "output_type": "stream",
     "text": [
      "ERROR: pip's dependency resolver does not currently take into account all the packages that are installed. This behaviour is the source of the following dependency conflicts.\n",
      "heroku 0.1.4 requires python-dateutil==1.5, but you have python-dateutil 2.7.5 which is incompatible.\n",
      "WARNING: You are using pip version 21.2.4; however, version 21.3.1 is available.\n",
      "You should consider upgrading via the 'c:\\users\\hashi\\anaconda3\\envs\\python3.6\\python.exe -m pip install --upgrade pip' command.\n"
     ]
    }
   ],
   "source": [
    "!pip install pwntools"
   ]
  },
  {
   "cell_type": "code",
   "execution_count": 1,
   "metadata": {},
   "outputs": [
    {
     "name": "stdout",
     "output_type": "stream",
     "text": [
      "[x] Opening connection to ftp.ubuntu.com on port 21\n",
      "[x] Opening connection to ftp.ubuntu.com on port 21: Trying 185.125.190.36\n",
      "[+] Opening connection to ftp.ubuntu.com on port 21: Done\n",
      "[*] Closed connection to ftp.ubuntu.com port 21\n"
     ]
    }
   ],
   "source": [
    "from pwn import *\n",
    "\n",
    "conn = remote('ftp.ubuntu.com',21)\n",
    "conn.recvline() \n",
    "#'220 FTP server (vsftpd)'\n",
    "conn.send('USER anonymous\\r\\n')\n",
    "conn.recvuntil(' ', drop=True)\n",
    "#'331'\n",
    "conn.recvline()\n",
    "#'Please specify the password.\\r\\n'\n",
    "conn.close()"
   ]
  },
  {
   "cell_type": "code",
   "execution_count": 82,
   "metadata": {},
   "outputs": [],
   "source": [
    "# nc primeparty.quals.beginners.seccon.jp 1336\n",
    "from tqdm import tqdm_notebook as tqdm"
   ]
  },
  {
   "cell_type": "code",
   "execution_count": 83,
   "metadata": {},
   "outputs": [
    {
     "data": {
      "application/vnd.jupyter.widget-view+json": {
       "model_id": "f1da91ac747b44549161b74b1f22e999",
       "version_major": 2,
       "version_minor": 0
      },
      "text/plain": [
       "HBox(children=(IntProgress(value=0, max=65537), HTML(value='')))"
      ]
     },
     "metadata": {},
     "output_type": "display_data"
    },
    {
     "name": "stdout",
     "output_type": "stream",
     "text": [
      "[x] Opening connection to primeparty.quals.beginners.seccon.jp on port 1336\n",
      "[x] Opening connection to primeparty.quals.beginners.seccon.jp on port 1336: Trying 153.127.200.105\n",
      "[+] Opening connection to primeparty.quals.beginners.seccon.jp on port 1336: Done\n",
      "[*] Closed connection to primeparty.quals.beginners.seccon.jp port 1336\n",
      "[x] Opening connection to primeparty.quals.beginners.seccon.jp on port 1336\n",
      "[x] Opening connection to primeparty.quals.beginners.seccon.jp on port 1336: Trying 153.127.200.105\n",
      "[+] Opening connection to primeparty.quals.beginners.seccon.jp on port 1336: Done\n",
      "[*] Closed connection to primeparty.quals.beginners.seccon.jp port 1336\n",
      "[x] Opening connection to primeparty.quals.beginners.seccon.jp on port 1336\n",
      "[x] Opening connection to primeparty.quals.beginners.seccon.jp on port 1336: Trying 153.127.200.105\n",
      "[+] Opening connection to primeparty.quals.beginners.seccon.jp on port 1336: Done\n",
      "[*] Closed connection to primeparty.quals.beginners.seccon.jp port 1336\n",
      "[x] Opening connection to primeparty.quals.beginners.seccon.jp on port 1336\n",
      "[x] Opening connection to primeparty.quals.beginners.seccon.jp on port 1336: Trying 153.127.200.105\n",
      "[+] Opening connection to primeparty.quals.beginners.seccon.jp on port 1336: Done\n",
      "[*] Closed connection to primeparty.quals.beginners.seccon.jp port 1336\n",
      "[x] Opening connection to primeparty.quals.beginners.seccon.jp on port 1336\n",
      "[x] Opening connection to primeparty.quals.beginners.seccon.jp on port 1336: Trying 153.127.200.105\n",
      "[+] Opening connection to primeparty.quals.beginners.seccon.jp on port 1336: Done\n",
      "[*] Closed connection to primeparty.quals.beginners.seccon.jp port 1336\n",
      "[x] Opening connection to primeparty.quals.beginners.seccon.jp on port 1336\n",
      "[x] Opening connection to primeparty.quals.beginners.seccon.jp on port 1336: Trying 153.127.200.105\n",
      "[+] Opening connection to primeparty.quals.beginners.seccon.jp on port 1336: Done\n",
      "[*] Closed connection to primeparty.quals.beginners.seccon.jp port 1336\n",
      "[x] Opening connection to primeparty.quals.beginners.seccon.jp on port 1336\n",
      "[x] Opening connection to primeparty.quals.beginners.seccon.jp on port 1336: Trying 153.127.200.105\n",
      "[+] Opening connection to primeparty.quals.beginners.seccon.jp on port 1336: Done\n",
      "[*] Closed connection to primeparty.quals.beginners.seccon.jp port 1336\n",
      "[x] Opening connection to primeparty.quals.beginners.seccon.jp on port 1336\n",
      "[x] Opening connection to primeparty.quals.beginners.seccon.jp on port 1336: Trying 153.127.200.105\n",
      "[+] Opening connection to primeparty.quals.beginners.seccon.jp on port 1336: Done\n",
      "[*] Closed connection to primeparty.quals.beginners.seccon.jp port 1336\n",
      "[x] Opening connection to primeparty.quals.beginners.seccon.jp on port 1336\n",
      "[x] Opening connection to primeparty.quals.beginners.seccon.jp on port 1336: Trying 153.127.200.105\n",
      "[+] Opening connection to primeparty.quals.beginners.seccon.jp on port 1336: Done\n",
      "[*] Closed connection to primeparty.quals.beginners.seccon.jp port 1336\n",
      "[x] Opening connection to primeparty.quals.beginners.seccon.jp on port 1336\n",
      "[x] Opening connection to primeparty.quals.beginners.seccon.jp on port 1336: Trying 153.127.200.105\n",
      "[+] Opening connection to primeparty.quals.beginners.seccon.jp on port 1336: Done\n",
      "[*] Closed connection to primeparty.quals.beginners.seccon.jp port 1336\n",
      "[x] Opening connection to primeparty.quals.beginners.seccon.jp on port 1336\n",
      "[x] Opening connection to primeparty.quals.beginners.seccon.jp on port 1336: Trying 153.127.200.105\n",
      "[+] Opening connection to primeparty.quals.beginners.seccon.jp on port 1336: Done\n",
      "[*] Closed connection to primeparty.quals.beginners.seccon.jp port 1336\n",
      "[x] Opening connection to primeparty.quals.beginners.seccon.jp on port 1336\n",
      "[x] Opening connection to primeparty.quals.beginners.seccon.jp on port 1336: Trying 153.127.200.105\n",
      "[+] Opening connection to primeparty.quals.beginners.seccon.jp on port 1336: Done\n",
      "[*] Closed connection to primeparty.quals.beginners.seccon.jp port 1336\n",
      "[x] Opening connection to primeparty.quals.beginners.seccon.jp on port 1336\n",
      "[x] Opening connection to primeparty.quals.beginners.seccon.jp on port 1336: Trying 153.127.200.105\n",
      "[+] Opening connection to primeparty.quals.beginners.seccon.jp on port 1336: Done\n",
      "[*] Closed connection to primeparty.quals.beginners.seccon.jp port 1336\n",
      "[x] Opening connection to primeparty.quals.beginners.seccon.jp on port 1336\n",
      "[x] Opening connection to primeparty.quals.beginners.seccon.jp on port 1336: Trying 153.127.200.105\n",
      "[+] Opening connection to primeparty.quals.beginners.seccon.jp on port 1336: Done\n",
      "[*] Closed connection to primeparty.quals.beginners.seccon.jp port 1336\n",
      "[x] Opening connection to primeparty.quals.beginners.seccon.jp on port 1336\n",
      "[x] Opening connection to primeparty.quals.beginners.seccon.jp on port 1336: Trying 153.127.200.105\n",
      "[+] Opening connection to primeparty.quals.beginners.seccon.jp on port 1336: Done\n",
      "[*] Closed connection to primeparty.quals.beginners.seccon.jp port 1336\n",
      "[x] Opening connection to primeparty.quals.beginners.seccon.jp on port 1336\n",
      "[x] Opening connection to primeparty.quals.beginners.seccon.jp on port 1336: Trying 153.127.200.105\n",
      "[+] Opening connection to primeparty.quals.beginners.seccon.jp on port 1336: Done\n",
      "[*] Closed connection to primeparty.quals.beginners.seccon.jp port 1336\n",
      "[x] Opening connection to primeparty.quals.beginners.seccon.jp on port 1336\n",
      "[x] Opening connection to primeparty.quals.beginners.seccon.jp on port 1336: Trying 153.127.200.105\n",
      "[+] Opening connection to primeparty.quals.beginners.seccon.jp on port 1336: Done\n"
     ]
    },
    {
     "ename": "KeyboardInterrupt",
     "evalue": "",
     "output_type": "error",
     "traceback": [
      "\u001b[1;31m---------------------------------------------------------------------------\u001b[0m",
      "\u001b[1;31mKeyboardInterrupt\u001b[0m                         Traceback (most recent call last)",
      "\u001b[1;32m<ipython-input-83-5e34912dcdf9>\u001b[0m in \u001b[0;36m<module>\u001b[1;34m\u001b[0m\n\u001b[0;32m      7\u001b[0m     \u001b[0mconn\u001b[0m\u001b[1;33m.\u001b[0m\u001b[0mrecv\u001b[0m\u001b[1;33m(\u001b[0m\u001b[1;33m)\u001b[0m\u001b[1;33m\u001b[0m\u001b[1;33m\u001b[0m\u001b[0m\n\u001b[0;32m      8\u001b[0m     \u001b[0mconn\u001b[0m\u001b[1;33m.\u001b[0m\u001b[0msend\u001b[0m\u001b[1;33m(\u001b[0m\u001b[1;34m'4\\n'\u001b[0m\u001b[1;33m)\u001b[0m\u001b[1;33m\u001b[0m\u001b[1;33m\u001b[0m\u001b[0m\n\u001b[1;32m----> 9\u001b[1;33m     \u001b[0mconn\u001b[0m\u001b[1;33m.\u001b[0m\u001b[0mrecv\u001b[0m\u001b[1;33m(\u001b[0m\u001b[1;33m)\u001b[0m\u001b[1;33m;\u001b[0m\u001b[1;33m\u001b[0m\u001b[1;33m\u001b[0m\u001b[0m\n\u001b[0m\u001b[0;32m     10\u001b[0m     \u001b[0mconn\u001b[0m\u001b[1;33m.\u001b[0m\u001b[0msend\u001b[0m\u001b[1;33m(\u001b[0m\u001b[1;34m'4\\n'\u001b[0m\u001b[1;33m)\u001b[0m\u001b[1;33m\u001b[0m\u001b[1;33m\u001b[0m\u001b[0m\n\u001b[0;32m     11\u001b[0m     \u001b[0mres\u001b[0m \u001b[1;33m=\u001b[0m \u001b[0mconn\u001b[0m\u001b[1;33m.\u001b[0m\u001b[0mrecv\u001b[0m\u001b[1;33m(\u001b[0m\u001b[1;33m)\u001b[0m\u001b[1;33m\u001b[0m\u001b[1;33m\u001b[0m\u001b[0m\n",
      "\u001b[1;32m~\\Anaconda3\\envs\\python3.6\\lib\\site-packages\\pwnlib\\tubes\\tube.py\u001b[0m in \u001b[0;36mrecv\u001b[1;34m(self, numb, timeout)\u001b[0m\n\u001b[0;32m    103\u001b[0m         \"\"\"\n\u001b[0;32m    104\u001b[0m         \u001b[0mnumb\u001b[0m \u001b[1;33m=\u001b[0m \u001b[0mself\u001b[0m\u001b[1;33m.\u001b[0m\u001b[0mbuffer\u001b[0m\u001b[1;33m.\u001b[0m\u001b[0mget_fill_size\u001b[0m\u001b[1;33m(\u001b[0m\u001b[0mnumb\u001b[0m\u001b[1;33m)\u001b[0m\u001b[1;33m\u001b[0m\u001b[1;33m\u001b[0m\u001b[0m\n\u001b[1;32m--> 105\u001b[1;33m         \u001b[1;32mreturn\u001b[0m \u001b[0mself\u001b[0m\u001b[1;33m.\u001b[0m\u001b[0m_recv\u001b[0m\u001b[1;33m(\u001b[0m\u001b[0mnumb\u001b[0m\u001b[1;33m,\u001b[0m \u001b[0mtimeout\u001b[0m\u001b[1;33m)\u001b[0m \u001b[1;32mor\u001b[0m \u001b[1;34mb''\u001b[0m\u001b[1;33m\u001b[0m\u001b[1;33m\u001b[0m\u001b[0m\n\u001b[0m\u001b[0;32m    106\u001b[0m \u001b[1;33m\u001b[0m\u001b[0m\n\u001b[0;32m    107\u001b[0m     \u001b[1;32mdef\u001b[0m \u001b[0munrecv\u001b[0m\u001b[1;33m(\u001b[0m\u001b[0mself\u001b[0m\u001b[1;33m,\u001b[0m \u001b[0mdata\u001b[0m\u001b[1;33m)\u001b[0m\u001b[1;33m:\u001b[0m\u001b[1;33m\u001b[0m\u001b[1;33m\u001b[0m\u001b[0m\n",
      "\u001b[1;32m~\\Anaconda3\\envs\\python3.6\\lib\\site-packages\\pwnlib\\tubes\\tube.py\u001b[0m in \u001b[0;36m_recv\u001b[1;34m(self, numb, timeout)\u001b[0m\n\u001b[0;32m    181\u001b[0m         \u001b[1;31m# No buffered data, could not put anything in the buffer\u001b[0m\u001b[1;33m\u001b[0m\u001b[1;33m\u001b[0m\u001b[1;33m\u001b[0m\u001b[0m\n\u001b[0;32m    182\u001b[0m         \u001b[1;31m# before timeout.\u001b[0m\u001b[1;33m\u001b[0m\u001b[1;33m\u001b[0m\u001b[1;33m\u001b[0m\u001b[0m\n\u001b[1;32m--> 183\u001b[1;33m         \u001b[1;32mif\u001b[0m \u001b[1;32mnot\u001b[0m \u001b[0mself\u001b[0m\u001b[1;33m.\u001b[0m\u001b[0mbuffer\u001b[0m \u001b[1;32mand\u001b[0m \u001b[1;32mnot\u001b[0m \u001b[0mself\u001b[0m\u001b[1;33m.\u001b[0m\u001b[0m_fillbuffer\u001b[0m\u001b[1;33m(\u001b[0m\u001b[0mtimeout\u001b[0m\u001b[1;33m)\u001b[0m\u001b[1;33m:\u001b[0m\u001b[1;33m\u001b[0m\u001b[1;33m\u001b[0m\u001b[0m\n\u001b[0m\u001b[0;32m    184\u001b[0m             \u001b[1;32mreturn\u001b[0m \u001b[1;34mb''\u001b[0m\u001b[1;33m\u001b[0m\u001b[1;33m\u001b[0m\u001b[0m\n\u001b[0;32m    185\u001b[0m \u001b[1;33m\u001b[0m\u001b[0m\n",
      "\u001b[1;32m~\\Anaconda3\\envs\\python3.6\\lib\\site-packages\\pwnlib\\tubes\\tube.py\u001b[0m in \u001b[0;36m_fillbuffer\u001b[1;34m(self, timeout)\u001b[0m\n\u001b[0;32m    152\u001b[0m \u001b[1;33m\u001b[0m\u001b[0m\n\u001b[0;32m    153\u001b[0m         \u001b[1;32mwith\u001b[0m \u001b[0mself\u001b[0m\u001b[1;33m.\u001b[0m\u001b[0mlocal\u001b[0m\u001b[1;33m(\u001b[0m\u001b[0mtimeout\u001b[0m\u001b[1;33m)\u001b[0m\u001b[1;33m:\u001b[0m\u001b[1;33m\u001b[0m\u001b[1;33m\u001b[0m\u001b[0m\n\u001b[1;32m--> 154\u001b[1;33m             \u001b[0mdata\u001b[0m \u001b[1;33m=\u001b[0m \u001b[0mself\u001b[0m\u001b[1;33m.\u001b[0m\u001b[0mrecv_raw\u001b[0m\u001b[1;33m(\u001b[0m\u001b[0mself\u001b[0m\u001b[1;33m.\u001b[0m\u001b[0mbuffer\u001b[0m\u001b[1;33m.\u001b[0m\u001b[0mget_fill_size\u001b[0m\u001b[1;33m(\u001b[0m\u001b[1;33m)\u001b[0m\u001b[1;33m)\u001b[0m\u001b[1;33m\u001b[0m\u001b[1;33m\u001b[0m\u001b[0m\n\u001b[0m\u001b[0;32m    155\u001b[0m \u001b[1;33m\u001b[0m\u001b[0m\n\u001b[0;32m    156\u001b[0m         \u001b[1;32mif\u001b[0m \u001b[0mdata\u001b[0m \u001b[1;32mand\u001b[0m \u001b[0mself\u001b[0m\u001b[1;33m.\u001b[0m\u001b[0misEnabledFor\u001b[0m\u001b[1;33m(\u001b[0m\u001b[0mlogging\u001b[0m\u001b[1;33m.\u001b[0m\u001b[0mDEBUG\u001b[0m\u001b[1;33m)\u001b[0m\u001b[1;33m:\u001b[0m\u001b[1;33m\u001b[0m\u001b[1;33m\u001b[0m\u001b[0m\n",
      "\u001b[1;32m~\\Anaconda3\\envs\\python3.6\\lib\\site-packages\\pwnlib\\tubes\\sock.py\u001b[0m in \u001b[0;36mrecv_raw\u001b[1;34m(self, numb, *a)\u001b[0m\n\u001b[0;32m     37\u001b[0m         \u001b[1;32mwhile\u001b[0m \u001b[1;32mTrue\u001b[0m\u001b[1;33m:\u001b[0m\u001b[1;33m\u001b[0m\u001b[1;33m\u001b[0m\u001b[0m\n\u001b[0;32m     38\u001b[0m             \u001b[1;32mtry\u001b[0m\u001b[1;33m:\u001b[0m\u001b[1;33m\u001b[0m\u001b[1;33m\u001b[0m\u001b[0m\n\u001b[1;32m---> 39\u001b[1;33m                 \u001b[0mdata\u001b[0m \u001b[1;33m=\u001b[0m \u001b[0mself\u001b[0m\u001b[1;33m.\u001b[0m\u001b[0msock\u001b[0m\u001b[1;33m.\u001b[0m\u001b[0mrecv\u001b[0m\u001b[1;33m(\u001b[0m\u001b[0mnumb\u001b[0m\u001b[1;33m,\u001b[0m \u001b[1;33m*\u001b[0m\u001b[0ma\u001b[0m\u001b[1;33m)\u001b[0m\u001b[1;33m\u001b[0m\u001b[1;33m\u001b[0m\u001b[0m\n\u001b[0m\u001b[0;32m     40\u001b[0m                 \u001b[1;32mbreak\u001b[0m\u001b[1;33m\u001b[0m\u001b[1;33m\u001b[0m\u001b[0m\n\u001b[0;32m     41\u001b[0m             \u001b[1;32mexcept\u001b[0m \u001b[0msocket\u001b[0m\u001b[1;33m.\u001b[0m\u001b[0mtimeout\u001b[0m\u001b[1;33m:\u001b[0m\u001b[1;33m\u001b[0m\u001b[1;33m\u001b[0m\u001b[0m\n",
      "\u001b[1;31mKeyboardInterrupt\u001b[0m: "
     ]
    }
   ],
   "source": [
    "ns=[]\n",
    "cs=[]\n",
    "for i in tqdm(range(65537)):\n",
    "    conn = remote('primeparty.quals.beginners.seccon.jp',1336)\n",
    "    conn.recv()\n",
    "    conn.send('4\\n')\n",
    "    conn.recv()\n",
    "    conn.send('4\\n')\n",
    "    conn.recv();\n",
    "    conn.send('4\\n')\n",
    "    res = conn.recv()\n",
    "    conn.close()\n",
    "    n = str(res).split(\"\\\\n\")[2].split(\" = \")[1]\n",
    "    e = str(res).split(\"\\\\n\")[3].split(\" = \")[1]\n",
    "    c = str(res).split(\"\\\\n\")[4].split(\" = \")[1]\n",
    "    ns.append(int(n))\n",
    "#     es.append(e)\n",
    "    cs.append(int(c))"
   ]
  },
  {
   "cell_type": "code",
   "execution_count": 77,
   "metadata": {},
   "outputs": [
    {
     "data": {
      "text/plain": [
       "b\"[*] I'm sorry... If you are not a Prime Number, you will not be allowed to join the party.\\n-*-*-*-*-*-*-*-*-*-*-*-*-\\n[*] Do you want to invite more guests?\\n > \""
      ]
     },
     "execution_count": 77,
     "metadata": {},
     "output_type": "execute_result"
    }
   ],
   "source": [
    "res"
   ]
  },
  {
   "cell_type": "code",
   "execution_count": 73,
   "metadata": {},
   "outputs": [
    {
     "data": {
      "text/plain": [
       "['b\"[*] We have been waiting for you!!! This way, please.',\n",
       " '-*-*-*-*-*-*-*-*-*-*-*-*-',\n",
       " '[*] We have been waiting for you!!! This way, please.',\n",
       " '-*-*-*-*-*-*-*-*-*-*-*-*-',\n",
       " '[*] We have been waiting for you!!! This way, please.',\n",
       " '-*-*-*-*-*-*-*-*-*-*-*-*-',\n",
       " '[*] We have been waiting for you!!! This way, please.',\n",
       " '-*-*-*-*-*-*-*-*-*-*-*-*-',\n",
       " '[*] Do you want to invite more guests?',\n",
       " \" > [*] I'm sorry... If you are not a Prime Number, you will not be allowed to join the party.\",\n",
       " '-*-*-*-*-*-*-*-*-*-*-*-*-',\n",
       " '[*] Do you want to invite more guests?',\n",
       " \" > [*] I'm sorry... If you are not a Prime Number, you will not be allowed to join the party.\",\n",
       " '-*-*-*-*-*-*-*-*-*-*-*-*-',\n",
       " '[*] Do you want to invite more guests?',\n",
       " \" > [*] I'm sorry... If you are not a Prime Number, you will not be allowed to join the party.\",\n",
       " '-*-*-*-*-*-*-*-*-*-*-*-*-',\n",
       " 'n = 84638984103495828499317463687221664880782380516053830232073270308610093562756284548877207007261299268062400817285578936560700201499385527792871684019599898642459290582173213389665873335101256903992138395773965266479462447598627250991578185368146176277468848424925929949194040581821428856775980119407666845581',\n",
       " 'e = 65537',\n",
       " 'cipher = 11743998083532665390479148804407077673214000343223249446604203020371148890229061923181622101957329600260381767438584563621705451849652091179459342891325704141185375405913387038935341268581451387803571953661099166840009653177834792681827500429596571834660025797021338691579395767336284645650357037565347158233',\n",
       " '\"']"
      ]
     },
     "execution_count": 73,
     "metadata": {},
     "output_type": "execute_result"
    }
   ],
   "source": [
    "str(res).split(\"\\\\n\")"
   ]
  },
  {
   "cell_type": "code",
   "execution_count": null,
   "metadata": {},
   "outputs": [],
   "source": []
  },
  {
   "cell_type": "code",
   "execution_count": null,
   "metadata": {},
   "outputs": [],
   "source": []
  },
  {
   "cell_type": "code",
   "execution_count": null,
   "metadata": {},
   "outputs": [],
   "source": []
  },
  {
   "cell_type": "code",
   "execution_count": 14,
   "metadata": {},
   "outputs": [],
   "source": []
  },
  {
   "cell_type": "code",
   "execution_count": 15,
   "metadata": {},
   "outputs": [
    {
     "ename": "EOFError",
     "evalue": "",
     "output_type": "error",
     "traceback": [
      "\u001b[1;31m---------------------------------------------------------------------------\u001b[0m",
      "\u001b[1;31mEOFError\u001b[0m                                  Traceback (most recent call last)",
      "\u001b[1;32m<ipython-input-15-7b490adfbfd7>\u001b[0m in \u001b[0;36m<module>\u001b[1;34m\u001b[0m\n\u001b[1;32m----> 1\u001b[1;33m \u001b[0mprint\u001b[0m\u001b[1;33m(\u001b[0m\u001b[0mconn\u001b[0m\u001b[1;33m.\u001b[0m\u001b[0mrecvline\u001b[0m\u001b[1;33m(\u001b[0m\u001b[1;33m)\u001b[0m \u001b[1;33m)\u001b[0m\u001b[1;33m\u001b[0m\u001b[1;33m\u001b[0m\u001b[0m\n\u001b[0m",
      "\u001b[1;32m~\\Anaconda3\\envs\\python3.6\\lib\\site-packages\\pwnlib\\tubes\\tube.py\u001b[0m in \u001b[0;36mrecvline\u001b[1;34m(self, keepends, timeout)\u001b[0m\n\u001b[0;32m    488\u001b[0m             \u001b[1;34mb'Foo\\nBar'\u001b[0m\u001b[1;33m\u001b[0m\u001b[1;33m\u001b[0m\u001b[0m\n\u001b[0;32m    489\u001b[0m         \"\"\"\n\u001b[1;32m--> 490\u001b[1;33m         \u001b[1;32mreturn\u001b[0m \u001b[0mself\u001b[0m\u001b[1;33m.\u001b[0m\u001b[0mrecvuntil\u001b[0m\u001b[1;33m(\u001b[0m\u001b[0mself\u001b[0m\u001b[1;33m.\u001b[0m\u001b[0mnewline\u001b[0m\u001b[1;33m,\u001b[0m \u001b[0mdrop\u001b[0m \u001b[1;33m=\u001b[0m \u001b[1;32mnot\u001b[0m \u001b[0mkeepends\u001b[0m\u001b[1;33m,\u001b[0m \u001b[0mtimeout\u001b[0m \u001b[1;33m=\u001b[0m \u001b[0mtimeout\u001b[0m\u001b[1;33m)\u001b[0m\u001b[1;33m\u001b[0m\u001b[1;33m\u001b[0m\u001b[0m\n\u001b[0m\u001b[0;32m    491\u001b[0m \u001b[1;33m\u001b[0m\u001b[0m\n\u001b[0;32m    492\u001b[0m     \u001b[1;32mdef\u001b[0m \u001b[0mrecvline_pred\u001b[0m\u001b[1;33m(\u001b[0m\u001b[0mself\u001b[0m\u001b[1;33m,\u001b[0m \u001b[0mpred\u001b[0m\u001b[1;33m,\u001b[0m \u001b[0mkeepends\u001b[0m\u001b[1;33m=\u001b[0m\u001b[1;32mFalse\u001b[0m\u001b[1;33m,\u001b[0m \u001b[0mtimeout\u001b[0m\u001b[1;33m=\u001b[0m\u001b[0mdefault\u001b[0m\u001b[1;33m)\u001b[0m\u001b[1;33m:\u001b[0m\u001b[1;33m\u001b[0m\u001b[1;33m\u001b[0m\u001b[0m\n",
      "\u001b[1;32m~\\Anaconda3\\envs\\python3.6\\lib\\site-packages\\pwnlib\\tubes\\tube.py\u001b[0m in \u001b[0;36mrecvuntil\u001b[1;34m(self, delims, drop, timeout)\u001b[0m\n\u001b[0;32m    331\u001b[0m             \u001b[1;32mwhile\u001b[0m \u001b[0mself\u001b[0m\u001b[1;33m.\u001b[0m\u001b[0mcountdown_active\u001b[0m\u001b[1;33m(\u001b[0m\u001b[1;33m)\u001b[0m\u001b[1;33m:\u001b[0m\u001b[1;33m\u001b[0m\u001b[1;33m\u001b[0m\u001b[0m\n\u001b[0;32m    332\u001b[0m                 \u001b[1;32mtry\u001b[0m\u001b[1;33m:\u001b[0m\u001b[1;33m\u001b[0m\u001b[1;33m\u001b[0m\u001b[0m\n\u001b[1;32m--> 333\u001b[1;33m                     \u001b[0mres\u001b[0m \u001b[1;33m=\u001b[0m \u001b[0mself\u001b[0m\u001b[1;33m.\u001b[0m\u001b[0mrecv\u001b[0m\u001b[1;33m(\u001b[0m\u001b[0mtimeout\u001b[0m\u001b[1;33m=\u001b[0m\u001b[0mself\u001b[0m\u001b[1;33m.\u001b[0m\u001b[0mtimeout\u001b[0m\u001b[1;33m)\u001b[0m\u001b[1;33m\u001b[0m\u001b[1;33m\u001b[0m\u001b[0m\n\u001b[0m\u001b[0;32m    334\u001b[0m                 \u001b[1;32mexcept\u001b[0m \u001b[0mException\u001b[0m\u001b[1;33m:\u001b[0m\u001b[1;33m\u001b[0m\u001b[1;33m\u001b[0m\u001b[0m\n\u001b[0;32m    335\u001b[0m                     \u001b[0mself\u001b[0m\u001b[1;33m.\u001b[0m\u001b[0munrecv\u001b[0m\u001b[1;33m(\u001b[0m\u001b[1;34mb''\u001b[0m\u001b[1;33m.\u001b[0m\u001b[0mjoin\u001b[0m\u001b[1;33m(\u001b[0m\u001b[0mdata\u001b[0m\u001b[1;33m)\u001b[0m \u001b[1;33m+\u001b[0m \u001b[0mtop\u001b[0m\u001b[1;33m)\u001b[0m\u001b[1;33m\u001b[0m\u001b[1;33m\u001b[0m\u001b[0m\n",
      "\u001b[1;32m~\\Anaconda3\\envs\\python3.6\\lib\\site-packages\\pwnlib\\tubes\\tube.py\u001b[0m in \u001b[0;36mrecv\u001b[1;34m(self, numb, timeout)\u001b[0m\n\u001b[0;32m    103\u001b[0m         \"\"\"\n\u001b[0;32m    104\u001b[0m         \u001b[0mnumb\u001b[0m \u001b[1;33m=\u001b[0m \u001b[0mself\u001b[0m\u001b[1;33m.\u001b[0m\u001b[0mbuffer\u001b[0m\u001b[1;33m.\u001b[0m\u001b[0mget_fill_size\u001b[0m\u001b[1;33m(\u001b[0m\u001b[0mnumb\u001b[0m\u001b[1;33m)\u001b[0m\u001b[1;33m\u001b[0m\u001b[1;33m\u001b[0m\u001b[0m\n\u001b[1;32m--> 105\u001b[1;33m         \u001b[1;32mreturn\u001b[0m \u001b[0mself\u001b[0m\u001b[1;33m.\u001b[0m\u001b[0m_recv\u001b[0m\u001b[1;33m(\u001b[0m\u001b[0mnumb\u001b[0m\u001b[1;33m,\u001b[0m \u001b[0mtimeout\u001b[0m\u001b[1;33m)\u001b[0m \u001b[1;32mor\u001b[0m \u001b[1;34mb''\u001b[0m\u001b[1;33m\u001b[0m\u001b[1;33m\u001b[0m\u001b[0m\n\u001b[0m\u001b[0;32m    106\u001b[0m \u001b[1;33m\u001b[0m\u001b[0m\n\u001b[0;32m    107\u001b[0m     \u001b[1;32mdef\u001b[0m \u001b[0munrecv\u001b[0m\u001b[1;33m(\u001b[0m\u001b[0mself\u001b[0m\u001b[1;33m,\u001b[0m \u001b[0mdata\u001b[0m\u001b[1;33m)\u001b[0m\u001b[1;33m:\u001b[0m\u001b[1;33m\u001b[0m\u001b[1;33m\u001b[0m\u001b[0m\n",
      "\u001b[1;32m~\\Anaconda3\\envs\\python3.6\\lib\\site-packages\\pwnlib\\tubes\\tube.py\u001b[0m in \u001b[0;36m_recv\u001b[1;34m(self, numb, timeout)\u001b[0m\n\u001b[0;32m    181\u001b[0m         \u001b[1;31m# No buffered data, could not put anything in the buffer\u001b[0m\u001b[1;33m\u001b[0m\u001b[1;33m\u001b[0m\u001b[1;33m\u001b[0m\u001b[0m\n\u001b[0;32m    182\u001b[0m         \u001b[1;31m# before timeout.\u001b[0m\u001b[1;33m\u001b[0m\u001b[1;33m\u001b[0m\u001b[1;33m\u001b[0m\u001b[0m\n\u001b[1;32m--> 183\u001b[1;33m         \u001b[1;32mif\u001b[0m \u001b[1;32mnot\u001b[0m \u001b[0mself\u001b[0m\u001b[1;33m.\u001b[0m\u001b[0mbuffer\u001b[0m \u001b[1;32mand\u001b[0m \u001b[1;32mnot\u001b[0m \u001b[0mself\u001b[0m\u001b[1;33m.\u001b[0m\u001b[0m_fillbuffer\u001b[0m\u001b[1;33m(\u001b[0m\u001b[0mtimeout\u001b[0m\u001b[1;33m)\u001b[0m\u001b[1;33m:\u001b[0m\u001b[1;33m\u001b[0m\u001b[1;33m\u001b[0m\u001b[0m\n\u001b[0m\u001b[0;32m    184\u001b[0m             \u001b[1;32mreturn\u001b[0m \u001b[1;34mb''\u001b[0m\u001b[1;33m\u001b[0m\u001b[1;33m\u001b[0m\u001b[0m\n\u001b[0;32m    185\u001b[0m \u001b[1;33m\u001b[0m\u001b[0m\n",
      "\u001b[1;32m~\\Anaconda3\\envs\\python3.6\\lib\\site-packages\\pwnlib\\tubes\\tube.py\u001b[0m in \u001b[0;36m_fillbuffer\u001b[1;34m(self, timeout)\u001b[0m\n\u001b[0;32m    152\u001b[0m \u001b[1;33m\u001b[0m\u001b[0m\n\u001b[0;32m    153\u001b[0m         \u001b[1;32mwith\u001b[0m \u001b[0mself\u001b[0m\u001b[1;33m.\u001b[0m\u001b[0mlocal\u001b[0m\u001b[1;33m(\u001b[0m\u001b[0mtimeout\u001b[0m\u001b[1;33m)\u001b[0m\u001b[1;33m:\u001b[0m\u001b[1;33m\u001b[0m\u001b[1;33m\u001b[0m\u001b[0m\n\u001b[1;32m--> 154\u001b[1;33m             \u001b[0mdata\u001b[0m \u001b[1;33m=\u001b[0m \u001b[0mself\u001b[0m\u001b[1;33m.\u001b[0m\u001b[0mrecv_raw\u001b[0m\u001b[1;33m(\u001b[0m\u001b[0mself\u001b[0m\u001b[1;33m.\u001b[0m\u001b[0mbuffer\u001b[0m\u001b[1;33m.\u001b[0m\u001b[0mget_fill_size\u001b[0m\u001b[1;33m(\u001b[0m\u001b[1;33m)\u001b[0m\u001b[1;33m)\u001b[0m\u001b[1;33m\u001b[0m\u001b[1;33m\u001b[0m\u001b[0m\n\u001b[0m\u001b[0;32m    155\u001b[0m \u001b[1;33m\u001b[0m\u001b[0m\n\u001b[0;32m    156\u001b[0m         \u001b[1;32mif\u001b[0m \u001b[0mdata\u001b[0m \u001b[1;32mand\u001b[0m \u001b[0mself\u001b[0m\u001b[1;33m.\u001b[0m\u001b[0misEnabledFor\u001b[0m\u001b[1;33m(\u001b[0m\u001b[0mlogging\u001b[0m\u001b[1;33m.\u001b[0m\u001b[0mDEBUG\u001b[0m\u001b[1;33m)\u001b[0m\u001b[1;33m:\u001b[0m\u001b[1;33m\u001b[0m\u001b[1;33m\u001b[0m\u001b[0m\n",
      "\u001b[1;32m~\\Anaconda3\\envs\\python3.6\\lib\\site-packages\\pwnlib\\tubes\\sock.py\u001b[0m in \u001b[0;36mrecv_raw\u001b[1;34m(self, numb, *a)\u001b[0m\n\u001b[0;32m     33\u001b[0m     \u001b[1;32mdef\u001b[0m \u001b[0mrecv_raw\u001b[0m\u001b[1;33m(\u001b[0m\u001b[0mself\u001b[0m\u001b[1;33m,\u001b[0m \u001b[0mnumb\u001b[0m\u001b[1;33m,\u001b[0m \u001b[1;33m*\u001b[0m\u001b[0ma\u001b[0m\u001b[1;33m)\u001b[0m\u001b[1;33m:\u001b[0m\u001b[1;33m\u001b[0m\u001b[1;33m\u001b[0m\u001b[0m\n\u001b[0;32m     34\u001b[0m         \u001b[1;32mif\u001b[0m \u001b[0mself\u001b[0m\u001b[1;33m.\u001b[0m\u001b[0mclosed\u001b[0m\u001b[1;33m[\u001b[0m\u001b[1;34m\"recv\"\u001b[0m\u001b[1;33m]\u001b[0m\u001b[1;33m:\u001b[0m\u001b[1;33m\u001b[0m\u001b[1;33m\u001b[0m\u001b[0m\n\u001b[1;32m---> 35\u001b[1;33m             \u001b[1;32mraise\u001b[0m \u001b[0mEOFError\u001b[0m\u001b[1;33m\u001b[0m\u001b[1;33m\u001b[0m\u001b[0m\n\u001b[0m\u001b[0;32m     36\u001b[0m \u001b[1;33m\u001b[0m\u001b[0m\n\u001b[0;32m     37\u001b[0m         \u001b[1;32mwhile\u001b[0m \u001b[1;32mTrue\u001b[0m\u001b[1;33m:\u001b[0m\u001b[1;33m\u001b[0m\u001b[1;33m\u001b[0m\u001b[0m\n",
      "\u001b[1;31mEOFError\u001b[0m: "
     ]
    }
   ],
   "source": [
    "print(conn.recvline() )"
   ]
  },
  {
   "cell_type": "code",
   "execution_count": null,
   "metadata": {},
   "outputs": [],
   "source": []
  },
  {
   "cell_type": "code",
   "execution_count": null,
   "metadata": {},
   "outputs": [],
   "source": []
  },
  {
   "cell_type": "code",
   "execution_count": null,
   "metadata": {},
   "outputs": [],
   "source": []
  },
  {
   "cell_type": "code",
   "execution_count": null,
   "metadata": {},
   "outputs": [],
   "source": [
    "# from pwn import *\n",
    "\n",
    "# l = listen(1336)\n",
    "# r = remote('primeparty.quals.beginners.seccon.jp', 1336) \n",
    "# svr = l.wait_for_connection()\n",
    "# r.send('hello')\n",
    "# print(svr.recv())"
   ]
  },
  {
   "cell_type": "code",
   "execution_count": null,
   "metadata": {},
   "outputs": [],
   "source": []
  }
 ],
 "metadata": {
  "kernelspec": {
   "display_name": "Python 3",
   "language": "python",
   "name": "python3"
  },
  "language_info": {
   "codemirror_mode": {
    "name": "ipython",
    "version": 3
   },
   "file_extension": ".py",
   "mimetype": "text/x-python",
   "name": "python",
   "nbconvert_exporter": "python",
   "pygments_lexer": "ipython3",
   "version": "3.6.7"
  }
 },
 "nbformat": 4,
 "nbformat_minor": 2
}
